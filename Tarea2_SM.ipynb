{
 "cells": [
  {
   "cell_type": "markdown",
   "metadata": {},
   "source": [
    "## NOMBRE:\n",
    "\n",
    "## FECHA DE ENTREGA:"
   ]
  },
  {
   "cell_type": "markdown",
   "metadata": {},
   "source": [
    "## PROFESOR "
   ]
  },
  {
   "cell_type": "markdown",
   "metadata": {},
   "source": [
    "# Surgimiento de Python "
   ]
  },
  {
   "cell_type": "markdown",
   "metadata": {},
   "source": [
    "En los últimos años **Python** lleva la mayor ventaja ya que es un lenguaje sencillo de aprender, Python ha llegado en el punto que más personas se entere de que exista, un informático holandés el señor *Guido van Rossum* fue quien se propuso a crear su propio y un nuevo lenguaje .\n",
    "sus propuestas que se implato fueron las sigueintes: \n",
    "#### Propuestas :\n",
    "\n",
    "1. > Debe ser fácil de leer \n",
    "2. > Tiene que llevar que el usuario pueda crear su propia codificación \n",
    "3. > El nombre se su programa quería que fuera muy breve, así que lo llamo Monty Python \n",
    "\n",
    "Después de casi 30 años el señor Rossum se dio cuenta que su lenguaje le estaba gustando a la gente y se dio cuenta que las vistas era mayores que otro tipo de lenguajes.\n"
   ]
  },
  {
   "cell_type": "markdown",
   "metadata": {},
   "source": [
    "# Codigo mas popular "
   ]
  },
  {
   "cell_type": "markdown",
   "metadata": {},
   "source": [
    "El señor Guido van Rossum nunca se propuso que fuera un consumo masivo o mejor dicho nunca penso que iba hacer tan grande.\n",
    "segun la revista del economista durante el 2010 se ha triplicado las visitas.\n",
    " ## Ventajas \n",
    " \n",
    " ##### Flexibilidad y Simplisidad \n",
    " \n",
    "     > su sintaxis es muy facil de apreder ya que conyeba a leerlo y compartirlo facilmente\n",
    "     \n",
    "     \n",
    " Puthon a ayudado a varias compañias como \n",
    " * Google (rastrar paginas web)\n",
    " * Pixar (creacion de peliculas)\n",
    " * Spoify (recomendacion de canciones)\n",
    " \n",
    "Con todo esto python a creado, se pordra posicionar en la lengua franca de codificacion , donde un cientifico dijo que era muy *poco probable*. ya que su argumentcion dijo que no se podia coparar los lenguges ya que python nunca remplazara a **c** y **c++** ya que este tipo de lenjuga es de un nivel inferiror asi lo menciona el cientifico . Tambien se dijo que **python** nunca acabara con **Java script** ya que es la que impulsa a la mayoria de las paginas web.\n",
    "     \n",
    " \n"
   ]
  }
 ],
 "metadata": {
  "kernelspec": {
   "display_name": "Python 3",
   "language": "python",
   "name": "python3"
  },
  "language_info": {
   "codemirror_mode": {
    "name": "ipython",
    "version": 3
   },
   "file_extension": ".py",
   "mimetype": "text/x-python",
   "name": "python",
   "nbconvert_exporter": "python",
   "pygments_lexer": "ipython3",
   "version": "3.7.4"
  }
 },
 "nbformat": 4,
 "nbformat_minor": 2
}
